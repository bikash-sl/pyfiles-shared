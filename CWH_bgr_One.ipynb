{
  "nbformat": 4,
  "nbformat_minor": 0,
  "metadata": {
    "colab": {
      "name": "CWH_bgr_One.ipynb",
      "provenance": [],
      "collapsed_sections": [],
      "authorship_tag": "ABX9TyPlApFbJ+ENGVcEGkID51HH",
      "include_colab_link": true
    },
    "kernelspec": {
      "name": "python3",
      "display_name": "Python 3"
    }
  },
  "cells": [
    {
      "cell_type": "markdown",
      "metadata": {
        "id": "view-in-github",
        "colab_type": "text"
      },
      "source": [
        "<a href=\"https://colab.research.google.com/github/bikash-sl/pyfiles-shared/blob/master/CWH_bgr_One.ipynb\" target=\"_parent\"><img src=\"https://colab.research.google.com/assets/colab-badge.svg\" alt=\"Open In Colab\"/></a>"
      ]
    },
    {
      "cell_type": "markdown",
      "metadata": {
        "id": "03MmEvpRfEcK"
      },
      "source": [
        "# **Chapter - 1 - Practice Set**\n",
        "---"
      ]
    },
    {
      "cell_type": "code",
      "metadata": {
        "id": "qTh63onHfC72"
      },
      "source": [
        "\"\"\" Q_3:\n",
        "Install an external module and use it to perform an operation of your interest.\n",
        "\n",
        "Soln: Used playsound module (pip install playsound)\n",
        "\"\"\"\n",
        "\n",
        "from playsound import playsound\n",
        "playsound('path to/bensound-littleidea.mp3')"
      ],
      "execution_count": null,
      "outputs": []
    },
    {
      "cell_type": "code",
      "metadata": {
        "id": "gUCKMI7vgOif"
      },
      "source": [
        "\"\"\" Q_4:\n",
        "Print the contents of a directory using OS module.\n",
        "\"\"\"\n",
        "\n",
        "import os\n",
        "print(os.listdir())"
      ],
      "execution_count": null,
      "outputs": []
    },
    {
      "cell_type": "markdown",
      "metadata": {
        "id": "aBWdF19Bdl4g"
      },
      "source": [
        "# **Chapter - 3 - Practice Set**\n",
        "---"
      ]
    },
    {
      "cell_type": "code",
      "metadata": {
        "id": "qMD_aEI2dlaG"
      },
      "source": [
        "\"\"\" Q_2:\n",
        "Write a program to fill in a letter template given below with name and date.\n",
        "\n",
        "Dear <|Name|>,\n",
        "    You are selected !\n",
        "    <|Date|>\n",
        "\"\"\"\n",
        "\n",
        "\n",
        "style_1 = '''Dear <Name>,\n",
        "\\tYou are selected !\n",
        "Date: <Date>'''\n",
        "\n",
        "\n",
        "name = input(\"Enter your Name: \")\n",
        "dt = input(\"Enter Date: \")\n",
        "\n",
        "\n",
        "style_1 = style_1.replace(\"<Name>\", name)\n",
        "style_1 = style_1.replace(\"<Date>\", dt)\n",
        "\n",
        "\n",
        "print(\"\\n\" + style_1)"
      ],
      "execution_count": null,
      "outputs": []
    },
    {
      "cell_type": "code",
      "metadata": {
        "id": "Yv3xwa3YeACv"
      },
      "source": [
        "\"\"\" Q_3 & Q_4:\n",
        "3. Find double space within a string.\n",
        "4. Replace double space with single space.\n",
        "\"\"\"\n",
        "\n",
        "my_str = \"He is  a good boy.\"\n",
        "\n",
        "# Detecting double space\n",
        "spaces = my_str.find(\"  \")\n",
        "\n",
        "print(\"Double space at position\", spaces)\n",
        "\n",
        "# Replacing double space with single space\n",
        "my_str = my_str.replace(\"  \", \" \")\n",
        "\n",
        "print(\"After replacing the double space with single space\\n\" + my_str)"
      ],
      "execution_count": null,
      "outputs": []
    },
    {
      "cell_type": "code",
      "metadata": {
        "id": "dRtDxYkqeTyO"
      },
      "source": [
        "\"\"\" Q_5:\n",
        "Format the following letter using escape sequence character.\n",
        "\"\"\"\n",
        "\n",
        "letter = \"Dear Superman, You are flying well. Thank You !\"\n",
        "\n",
        "print(letter)\n",
        "\n",
        "new_letter = \"\"\"Dear Superman,\\n\\tYou are flying well.\\nThank You !\"\"\"\n",
        "\n",
        "print(\"\\nThe formatted letter is:\\n\" + new_letter)"
      ],
      "execution_count": null,
      "outputs": []
    },
    {
      "cell_type": "markdown",
      "metadata": {
        "id": "GrRvkjs8ZglY"
      },
      "source": [
        "# **Chapter - 4 - Practice Set**\n",
        "\n",
        "---"
      ]
    },
    {
      "cell_type": "code",
      "metadata": {
        "id": "f7mWy74RZfn2"
      },
      "source": [
        "\"\"\" Q_1: Store 7 fruits as a list. (from user input)\"\"\"\n",
        "\n",
        "fruits = []\n",
        "\n",
        "for _ in range(7):\n",
        "    fruit = input(\"Enter the name of the fruit: \")\n",
        "    fruits.append(fruit)\n",
        "\n",
        "print(fruits)"
      ],
      "execution_count": null,
      "outputs": []
    },
    {
      "cell_type": "code",
      "metadata": {
        "id": "VtquaZ0zaq8M"
      },
      "source": [
        "\"\"\" Q_2: Display the marks of 6 student in a sorted maner.\"\"\"\n",
        "\n",
        "marks = [45, 63, 32, 25, 72, 87]\n",
        "\n",
        "marks.sort()\n",
        "\n",
        "print(marks)"
      ],
      "execution_count": null,
      "outputs": []
    },
    {
      "cell_type": "code",
      "metadata": {
        "colab": {
          "base_uri": "https://localhost:8080/"
        },
        "id": "8gVxaXPacON9",
        "outputId": "5a8165f7-75f4-42c5-8988-42fc8f729cd9"
      },
      "source": [
        "\"\"\" Q_4: Sum a list with 4 numbers \"\"\"\n",
        "\n",
        "a = [24, 13, 4, 78]\n",
        "\n",
        "print(a)\n",
        "\n",
        "print(\"The sum is:\", sum(a))"
      ],
      "execution_count": null,
      "outputs": [
        {
          "output_type": "stream",
          "text": [
            "[24, 13, 4, 78]\n",
            "The sum is: 119\n"
          ],
          "name": "stdout"
        }
      ]
    },
    {
      "cell_type": "code",
      "metadata": {
        "colab": {
          "base_uri": "https://localhost:8080/"
        },
        "id": "oWEnG7uRcaeL",
        "outputId": "bddc0dc1-2091-4e81-d2c7-898807007574"
      },
      "source": [
        "\"\"\" Q_5:\n",
        "Find number of time \"0\" occurs in the following tuple\n",
        "a = (7, 0, 8, 0, 0, 9)\n",
        "\"\"\"\n",
        "\n",
        "a = (7, 0, 8, 0, 0, 9)\n",
        "\n",
        "print(a)\n",
        "\n",
        "print(\"number of times zero occured is:\", a.count(0))"
      ],
      "execution_count": null,
      "outputs": [
        {
          "output_type": "stream",
          "text": [
            "(7, 0, 8, 0, 0, 9)\n",
            "number of times zero occured is: 3\n"
          ],
          "name": "stdout"
        }
      ]
    },
    {
      "cell_type": "markdown",
      "metadata": {
        "id": "8taVuOsguHz_"
      },
      "source": [
        "# **Chapter - 5 - Practice Set**\r\n",
        "\r\n",
        "---\r\n",
        "\r\n"
      ]
    },
    {
      "cell_type": "code",
      "metadata": {
        "id": "T9EhMTxetaIQ"
      },
      "source": [
        "\"\"\"\n",
        "Qn-3: Input 8 numbers from the user and display only the uniqe numbers\n",
        "\"\"\"\n",
        "\n",
        "usr_nums = []\n",
        "\n",
        "for _ in range (8):\n",
        "    num = input(\"Enter a number: \")\n",
        "    usr_nums.append(num)\n",
        "\n",
        "print(\"You have entered:\",set(usr_nums))"
      ],
      "execution_count": null,
      "outputs": []
    },
    {
      "cell_type": "code",
      "metadata": {
        "id": "CWcG7M3UwXW2"
      },
      "source": [
        "\"\"\"\n",
        "Qn-6: Create a Dictionary (with 4 key, value) Using name and their \n",
        "favourite language\n",
        "\"\"\"\n",
        "\n",
        "fav = {}\n",
        "\n",
        "for _ in range (4):\n",
        "    key = input(\"Enter your name: \")\n",
        "    value = input(\"Enter your favourite subject: \")\n",
        "    fav.update({key:value})\n",
        "\n",
        "print(fav)"
      ],
      "execution_count": null,
      "outputs": []
    },
    {
      "cell_type": "markdown",
      "metadata": {
        "id": "vvWdcp3kFciR"
      },
      "source": [
        "\r\n",
        "\r\n",
        "---\r\n",
        "\r\n"
      ]
    },
    {
      "cell_type": "markdown",
      "metadata": {
        "id": "PW4sMAO7ExMs"
      },
      "source": [
        "# **Chapter - 6 - Practice Set**\r\n",
        "\r\n",
        "\r\n",
        "\r\n",
        "\r\n",
        "\r\n",
        "---\r\n",
        "\r\n"
      ]
    },
    {
      "cell_type": "code",
      "metadata": {
        "id": "06JMAOy2FMc7"
      },
      "source": [
        "\"\"\"\r\n",
        "Q_1: Find the greater number\r\n",
        "\"\"\"\r\n",
        "\r\n",
        "## Using conditions\r\n",
        "nums = []\r\n",
        "\r\n",
        "for i in range(4):\r\n",
        "    nums.append(int(input(f\"Enter number {i+1}: \")))\r\n",
        "\r\n",
        "if nums[0] > nums[1]:\r\n",
        "    grt_1 = nums[0]\r\n",
        "else:\r\n",
        "    grt_1 = nums[1]\r\n",
        "\r\n",
        "if nums[2] > nums[3]:\r\n",
        "    grt_2 = nums[2]\r\n",
        "else:\r\n",
        "    grt_2 = nums[3]\r\n",
        "\r\n",
        "print(\"Found using Conditions.\")\r\n",
        "\r\n",
        "if grt_1 > grt_2:\r\n",
        "    print(\"The greatest value is:\", grt_1)\r\n",
        "else:\r\n",
        "    print(\"The greatest value is:\", grt_2)\r\n",
        "\r\n",
        "\r\n",
        "## Using max() method in list\r\n",
        "print(\"\\nFound using max().\")\r\n",
        "print(\"The greatest value is:\", max(nums))\r\n"
      ],
      "execution_count": null,
      "outputs": []
    },
    {
      "cell_type": "code",
      "metadata": {
        "id": "KQI0owFKFdoI",
        "outputId": "6b4d8858-39f3-43d6-a297-2ff85fd76817",
        "colab": {
          "base_uri": "https://localhost:8080/"
        }
      },
      "source": [
        "\"\"\" Q_2: \n",
        "Find out whether a student is pass or fail if it requires total\n",
        "40% and at least 33% in each subject to pass. Assume 3 subjects \n",
        "and take marks as an input from the user.\n",
        "\"\"\"\n",
        "\n",
        "fm = 300\n",
        "pass_in_percentage = 40/100\n",
        "# pass_mark = \n",
        "\n",
        "print(pass_in_percentage)"
      ],
      "execution_count": 1,
      "outputs": [
        {
          "output_type": "stream",
          "text": [
            "0.4\n"
          ],
          "name": "stdout"
        }
      ]
    }
  ]
}